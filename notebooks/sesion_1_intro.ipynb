{
  "nbformat": 4,
  "nbformat_minor": 0,
  "metadata": {
    "colab": {
      "provenance": [],
      "authorship_tag": "ABX9TyM/iZXY+eb1pfch/DkMm2Fp",
      "include_colab_link": true
    },
    "kernelspec": {
      "name": "ir",
      "display_name": "R"
    },
    "language_info": {
      "name": "R"
    }
  },
  "cells": [
    {
      "cell_type": "markdown",
      "metadata": {
        "id": "view-in-github",
        "colab_type": "text"
      },
      "source": [
        "<a href=\"https://colab.research.google.com/github/ElenaVillano/visualizacionR/blob/main/notebooks/sesion_1_intro.ipynb\" target=\"_parent\"><img src=\"https://colab.research.google.com/assets/colab-badge.svg\" alt=\"Open In Colab\"/></a>"
      ]
    },
    {
      "cell_type": "markdown",
      "source": [
        "# Taller de visualización de datos\n",
        "\n",
        "- **Objetivo**: Enseñar a los estudiantes a visualizar y analizar, con el programa R, distintos indicadores sobre democracia, responsabilidad corporativa, libertad de expresión, y derechos humanos en 6 países de América Latina (incluido México). Específicamente, se contempla que se presenten estos resultados al socio formador, Coparmex."
      ],
      "metadata": {
        "id": "WbBVzgKwTaXt"
      }
    },
    {
      "cell_type": "code",
      "execution_count": 12,
      "metadata": {
        "id": "p1wyooZRGYH9"
      },
      "outputs": [],
      "source": [
        "# Packages\n",
        "# - ggplot\n",
        "# - tidyverse\n",
        "library(tidyverse)"
      ]
    },
    {
      "cell_type": "code",
      "source": [],
      "metadata": {
        "id": "cXLWubULTZcq"
      },
      "execution_count": null,
      "outputs": []
    },
    {
      "cell_type": "code",
      "source": [
        "# Data\n"
      ],
      "metadata": {
        "id": "gXvA4txSGxGB"
      },
      "execution_count": 17,
      "outputs": []
    },
    {
      "cell_type": "code",
      "source": [],
      "metadata": {
        "id": "bsQPODssHkJv",
        "outputId": "efd9f7e2-118f-4d91-a668-2d3ffdb3610f",
        "colab": {
          "base_uri": "https://localhost:8080/",
          "height": 653
        }
      },
      "execution_count": 16,
      "outputs": [
        {
          "output_type": "display_data",
          "data": {
            "text/html": [
              "<table class=\"dataframe\">\n",
              "<caption>A tibble: 6 × 22</caption>\n",
              "<thead>\n",
              "\t<tr><th scope=col>Sector</th><th scope=col>Subsector</th><th scope=col>Branch</th><th scope=col>Subbranch</th><th scope=col>Class</th><th scope=col>Description</th><th scope=col>Economic units</th><th scope=col>Workers total</th><th scope=col>Workers hired by the unit</th><th scope=col>Fixed salary workers</th><th scope=col>⋯</th><th scope=col>Payments</th><th scope=col>Expenses</th><th scope=col>Incomes</th><th scope=col>Production</th><th scope=col>Intermediate expenses</th><th scope=col>Added value</th><th scope=col>Fixed capital formation</th><th scope=col>Variation of stocks</th><th scope=col>Fixed assets</th><th scope=col>Depreciation</th></tr>\n",
              "\t<tr><th scope=col>&lt;chr&gt;</th><th scope=col>&lt;chr&gt;</th><th scope=col>&lt;chr&gt;</th><th scope=col>&lt;chr&gt;</th><th scope=col>&lt;chr&gt;</th><th scope=col>&lt;chr&gt;</th><th scope=col>&lt;dbl&gt;</th><th scope=col>&lt;dbl&gt;</th><th scope=col>&lt;dbl&gt;</th><th scope=col>&lt;dbl&gt;</th><th scope=col>⋯</th><th scope=col>&lt;dbl&gt;</th><th scope=col>&lt;dbl&gt;</th><th scope=col>&lt;dbl&gt;</th><th scope=col>&lt;dbl&gt;</th><th scope=col>&lt;dbl&gt;</th><th scope=col>&lt;dbl&gt;</th><th scope=col>&lt;dbl&gt;</th><th scope=col>&lt;dbl&gt;</th><th scope=col>&lt;dbl&gt;</th><th scope=col>&lt;dbl&gt;</th></tr>\n",
              "</thead>\n",
              "<tbody>\n",
              "\t<tr><td>Sector          </td><td>Subsector 212</td><td>NA         </td><td>NA             </td><td>NA          </td><td>Municipio Guanajuato                                                               </td><td>5552</td><td>25289</td><td>21862</td><td>13713</td><td>⋯</td><td>1052.6</td><td>8333.8</td><td>12666.2</td><td>9144.3</td><td>4791.6</td><td>4352.7</td><td>683.0</td><td>58.8</td><td>5279.0</td><td>583.8</td></tr>\n",
              "\t<tr><td>Sector 21 Mining</td><td>NA           </td><td>NA         </td><td>NA             </td><td>NA          </td><td>Sector 21 Mining                                                                   </td><td>  14</td><td> 2665</td><td> 1281</td><td> 1278</td><td>⋯</td><td> 224.8</td><td> 662.5</td><td> 1876.8</td><td>1874.2</td><td> 662.5</td><td>1211.7</td><td>526.6</td><td> 5.0</td><td>1257.3</td><td>152.6</td></tr>\n",
              "\t<tr><td>Sector 21 Mining</td><td>Subsector 212</td><td>NA         </td><td>NA             </td><td>NA          </td><td>Subsector 212 Minería de minerales metálicos y no metálicos, excepto petróleo y gas</td><td>  11</td><td> 2413</td><td> 1085</td><td> 1082</td><td>⋯</td><td> 196.4</td><td> 636.1</td><td> 1711.7</td><td>1709.1</td><td> 636.1</td><td>1073.0</td><td>504.3</td><td> 5.0</td><td>1139.3</td><td>146.3</td></tr>\n",
              "\t<tr><td>Sector 21 Mining</td><td>Subsector 212</td><td>Branch 2122</td><td>NA             </td><td>NA          </td><td>Branch 2122 Minería de minerales metálicos                                         </td><td>   5</td><td> 2397</td><td> 1069</td><td> 1069</td><td>⋯</td><td> 195.8</td><td> 634.9</td><td> 1710.0</td><td>1707.4</td><td> 634.9</td><td>1072.5</td><td>504.2</td><td> 5.0</td><td>1132.9</td><td>145.4</td></tr>\n",
              "\t<tr><td>Sector 21 Mining</td><td>Subsector 212</td><td>Branch 2122</td><td>Subbranch 21222</td><td>NA          </td><td>Subbranch 21222 Minería de oro y plata                                             </td><td>   5</td><td> 2397</td><td> 1069</td><td> 1069</td><td>⋯</td><td> 195.8</td><td> 634.9</td><td> 1710.0</td><td>1707.4</td><td> 634.9</td><td>1072.5</td><td>504.2</td><td> 5.0</td><td>1132.9</td><td>145.4</td></tr>\n",
              "\t<tr><td>Sector 21 Mining</td><td>Subsector 212</td><td>Branch 2122</td><td>Subbranch 21222</td><td>Class 21222C</td><td>Classs agrupadas por principio de confidencialidad                                 </td><td>   5</td><td> 2397</td><td> 1069</td><td> 1069</td><td>⋯</td><td> 195.8</td><td> 634.9</td><td> 1710.0</td><td>1707.4</td><td> 634.9</td><td>1072.5</td><td>504.2</td><td> 5.0</td><td>1132.9</td><td>145.4</td></tr>\n",
              "</tbody>\n",
              "</table>\n"
            ],
            "text/markdown": "\nA tibble: 6 × 22\n\n| Sector &lt;chr&gt; | Subsector &lt;chr&gt; | Branch &lt;chr&gt; | Subbranch &lt;chr&gt; | Class &lt;chr&gt; | Description &lt;chr&gt; | Economic units &lt;dbl&gt; | Workers total &lt;dbl&gt; | Workers hired by the unit &lt;dbl&gt; | Fixed salary workers &lt;dbl&gt; | ⋯ ⋯ | Payments &lt;dbl&gt; | Expenses &lt;dbl&gt; | Incomes &lt;dbl&gt; | Production &lt;dbl&gt; | Intermediate expenses &lt;dbl&gt; | Added value &lt;dbl&gt; | Fixed capital formation &lt;dbl&gt; | Variation of stocks &lt;dbl&gt; | Fixed assets &lt;dbl&gt; | Depreciation &lt;dbl&gt; |\n|---|---|---|---|---|---|---|---|---|---|---|---|---|---|---|---|---|---|---|---|---|\n| Sector           | Subsector 212 | NA          | NA              | NA           | Municipio Guanajuato                                                                | 5552 | 25289 | 21862 | 13713 | ⋯ | 1052.6 | 8333.8 | 12666.2 | 9144.3 | 4791.6 | 4352.7 | 683.0 | 58.8 | 5279.0 | 583.8 |\n| Sector 21 Mining | NA            | NA          | NA              | NA           | Sector 21 Mining                                                                    |   14 |  2665 |  1281 |  1278 | ⋯ |  224.8 |  662.5 |  1876.8 | 1874.2 |  662.5 | 1211.7 | 526.6 |  5.0 | 1257.3 | 152.6 |\n| Sector 21 Mining | Subsector 212 | NA          | NA              | NA           | Subsector 212 Minería de minerales metálicos y no metálicos, excepto petróleo y gas |   11 |  2413 |  1085 |  1082 | ⋯ |  196.4 |  636.1 |  1711.7 | 1709.1 |  636.1 | 1073.0 | 504.3 |  5.0 | 1139.3 | 146.3 |\n| Sector 21 Mining | Subsector 212 | Branch 2122 | NA              | NA           | Branch 2122 Minería de minerales metálicos                                          |    5 |  2397 |  1069 |  1069 | ⋯ |  195.8 |  634.9 |  1710.0 | 1707.4 |  634.9 | 1072.5 | 504.2 |  5.0 | 1132.9 | 145.4 |\n| Sector 21 Mining | Subsector 212 | Branch 2122 | Subbranch 21222 | NA           | Subbranch 21222 Minería de oro y plata                                              |    5 |  2397 |  1069 |  1069 | ⋯ |  195.8 |  634.9 |  1710.0 | 1707.4 |  634.9 | 1072.5 | 504.2 |  5.0 | 1132.9 | 145.4 |\n| Sector 21 Mining | Subsector 212 | Branch 2122 | Subbranch 21222 | Class 21222C | Classs agrupadas por principio de confidencialidad                                  |    5 |  2397 |  1069 |  1069 | ⋯ |  195.8 |  634.9 |  1710.0 | 1707.4 |  634.9 | 1072.5 | 504.2 |  5.0 | 1132.9 | 145.4 |\n\n",
            "text/latex": "A tibble: 6 × 22\n\\begin{tabular}{lllllllllllllllllllll}\n Sector & Subsector & Branch & Subbranch & Class & Description & Economic units & Workers total & Workers hired by the unit & Fixed salary workers & ⋯ & Payments & Expenses & Incomes & Production & Intermediate expenses & Added value & Fixed capital formation & Variation of stocks & Fixed assets & Depreciation\\\\\n <chr> & <chr> & <chr> & <chr> & <chr> & <chr> & <dbl> & <dbl> & <dbl> & <dbl> & ⋯ & <dbl> & <dbl> & <dbl> & <dbl> & <dbl> & <dbl> & <dbl> & <dbl> & <dbl> & <dbl>\\\\\n\\hline\n\t Sector           & Subsector 212 & NA          & NA              & NA           & Municipio Guanajuato                                                                & 5552 & 25289 & 21862 & 13713 & ⋯ & 1052.6 & 8333.8 & 12666.2 & 9144.3 & 4791.6 & 4352.7 & 683.0 & 58.8 & 5279.0 & 583.8\\\\\n\t Sector 21 Mining & NA            & NA          & NA              & NA           & Sector 21 Mining                                                                    &   14 &  2665 &  1281 &  1278 & ⋯ &  224.8 &  662.5 &  1876.8 & 1874.2 &  662.5 & 1211.7 & 526.6 &  5.0 & 1257.3 & 152.6\\\\\n\t Sector 21 Mining & Subsector 212 & NA          & NA              & NA           & Subsector 212 Minería de minerales metálicos y no metálicos, excepto petróleo y gas &   11 &  2413 &  1085 &  1082 & ⋯ &  196.4 &  636.1 &  1711.7 & 1709.1 &  636.1 & 1073.0 & 504.3 &  5.0 & 1139.3 & 146.3\\\\\n\t Sector 21 Mining & Subsector 212 & Branch 2122 & NA              & NA           & Branch 2122 Minería de minerales metálicos                                          &    5 &  2397 &  1069 &  1069 & ⋯ &  195.8 &  634.9 &  1710.0 & 1707.4 &  634.9 & 1072.5 & 504.2 &  5.0 & 1132.9 & 145.4\\\\\n\t Sector 21 Mining & Subsector 212 & Branch 2122 & Subbranch 21222 & NA           & Subbranch 21222 Minería de oro y plata                                              &    5 &  2397 &  1069 &  1069 & ⋯ &  195.8 &  634.9 &  1710.0 & 1707.4 &  634.9 & 1072.5 & 504.2 &  5.0 & 1132.9 & 145.4\\\\\n\t Sector 21 Mining & Subsector 212 & Branch 2122 & Subbranch 21222 & Class 21222C & Classs agrupadas por principio de confidencialidad                                  &    5 &  2397 &  1069 &  1069 & ⋯ &  195.8 &  634.9 &  1710.0 & 1707.4 &  634.9 & 1072.5 & 504.2 &  5.0 & 1132.9 & 145.4\\\\\n\\end{tabular}\n",
            "text/plain": [
              "  Sector           Subsector     Branch      Subbranch       Class       \n",
              "1 Sector           Subsector 212 NA          NA              NA          \n",
              "2 Sector 21 Mining NA            NA          NA              NA          \n",
              "3 Sector 21 Mining Subsector 212 NA          NA              NA          \n",
              "4 Sector 21 Mining Subsector 212 Branch 2122 NA              NA          \n",
              "5 Sector 21 Mining Subsector 212 Branch 2122 Subbranch 21222 NA          \n",
              "6 Sector 21 Mining Subsector 212 Branch 2122 Subbranch 21222 Class 21222C\n",
              "  Description                                                                        \n",
              "1 Municipio Guanajuato                                                               \n",
              "2 Sector 21 Mining                                                                   \n",
              "3 Subsector 212 Minería de minerales metálicos y no metálicos, excepto petróleo y gas\n",
              "4 Branch 2122 Minería de minerales metálicos                                         \n",
              "5 Subbranch 21222 Minería de oro y plata                                             \n",
              "6 Classs agrupadas por principio de confidencialidad                                 \n",
              "  Economic units Workers total Workers hired by the unit Fixed salary workers ⋯\n",
              "1 5552           25289         21862                     13713                ⋯\n",
              "2   14            2665          1281                      1278                ⋯\n",
              "3   11            2413          1085                      1082                ⋯\n",
              "4    5            2397          1069                      1069                ⋯\n",
              "5    5            2397          1069                      1069                ⋯\n",
              "6    5            2397          1069                      1069                ⋯\n",
              "  Payments Expenses Incomes Production Intermediate expenses Added value\n",
              "1 1052.6   8333.8   12666.2 9144.3     4791.6                4352.7     \n",
              "2  224.8    662.5    1876.8 1874.2      662.5                1211.7     \n",
              "3  196.4    636.1    1711.7 1709.1      636.1                1073.0     \n",
              "4  195.8    634.9    1710.0 1707.4      634.9                1072.5     \n",
              "5  195.8    634.9    1710.0 1707.4      634.9                1072.5     \n",
              "6  195.8    634.9    1710.0 1707.4      634.9                1072.5     \n",
              "  Fixed capital formation Variation of stocks Fixed assets Depreciation\n",
              "1 683.0                   58.8                5279.0       583.8       \n",
              "2 526.6                    5.0                1257.3       152.6       \n",
              "3 504.3                    5.0                1139.3       146.3       \n",
              "4 504.2                    5.0                1132.9       145.4       \n",
              "5 504.2                    5.0                1132.9       145.4       \n",
              "6 504.2                    5.0                1132.9       145.4       "
            ]
          },
          "metadata": {}
        }
      ]
    },
    {
      "cell_type": "code",
      "source": [],
      "metadata": {
        "id": "MI5GCP9pHUfb"
      },
      "execution_count": 11,
      "outputs": []
    },
    {
      "cell_type": "code",
      "source": [],
      "metadata": {
        "id": "84gpBgkrHVpt",
        "outputId": "4aaca4bc-4c21-492e-f7c8-f153664a79ec",
        "colab": {
          "base_uri": "https://localhost:8080/",
          "height": 52
        }
      },
      "execution_count": 8,
      "outputs": [
        {
          "output_type": "display_data",
          "data": {
            "text/html": [
              "<style>\n",
              ".list-inline {list-style: none; margin:0; padding: 0}\n",
              ".list-inline>li {display: inline-block}\n",
              ".list-inline>li:not(:last-child)::after {content: \"\\00b7\"; padding: 0 .5ex}\n",
              "</style>\n",
              "<ol class=list-inline><li>'Sector'</li><li>'Subsector'</li><li>'Branch'</li><li>'Subbranch'</li><li>'Class'</li><li>'Description'</li><li>'Economic units'</li><li>'Workers total'</li><li>'Workers hired by the unit'</li><li>'Fixed salary workers'</li><li>'No fixed salary workers'</li><li>'Workers not hired by the unit'</li><li>'Payments'</li><li>'Expenses'</li><li>'Incomes'</li><li>'Production'</li><li>'Intermediate expenses'</li><li>'Added value'</li><li>'Fixed capital formation'</li><li>'Variation of stocks'</li><li>'Fixed assets'</li><li>'Depreciation'</li></ol>\n"
            ],
            "text/markdown": "1. 'Sector'\n2. 'Subsector'\n3. 'Branch'\n4. 'Subbranch'\n5. 'Class'\n6. 'Description'\n7. 'Economic units'\n8. 'Workers total'\n9. 'Workers hired by the unit'\n10. 'Fixed salary workers'\n11. 'No fixed salary workers'\n12. 'Workers not hired by the unit'\n13. 'Payments'\n14. 'Expenses'\n15. 'Incomes'\n16. 'Production'\n17. 'Intermediate expenses'\n18. 'Added value'\n19. 'Fixed capital formation'\n20. 'Variation of stocks'\n21. 'Fixed assets'\n22. 'Depreciation'\n\n\n",
            "text/latex": "\\begin{enumerate*}\n\\item 'Sector'\n\\item 'Subsector'\n\\item 'Branch'\n\\item 'Subbranch'\n\\item 'Class'\n\\item 'Description'\n\\item 'Economic units'\n\\item 'Workers total'\n\\item 'Workers hired by the unit'\n\\item 'Fixed salary workers'\n\\item 'No fixed salary workers'\n\\item 'Workers not hired by the unit'\n\\item 'Payments'\n\\item 'Expenses'\n\\item 'Incomes'\n\\item 'Production'\n\\item 'Intermediate expenses'\n\\item 'Added value'\n\\item 'Fixed capital formation'\n\\item 'Variation of stocks'\n\\item 'Fixed assets'\n\\item 'Depreciation'\n\\end{enumerate*}\n",
            "text/plain": [
              " [1] \"Sector\"                        \"Subsector\"                    \n",
              " [3] \"Branch\"                        \"Subbranch\"                    \n",
              " [5] \"Class\"                         \"Description\"                  \n",
              " [7] \"Economic units\"                \"Workers total\"                \n",
              " [9] \"Workers hired by the unit\"     \"Fixed salary workers\"         \n",
              "[11] \"No fixed salary workers\"       \"Workers not hired by the unit\"\n",
              "[13] \"Payments\"                      \"Expenses\"                     \n",
              "[15] \"Incomes\"                       \"Production\"                   \n",
              "[17] \"Intermediate expenses\"         \"Added value\"                  \n",
              "[19] \"Fixed capital formation\"       \"Variation of stocks\"          \n",
              "[21] \"Fixed assets\"                  \"Depreciation\"                 "
            ]
          },
          "metadata": {}
        }
      ]
    },
    {
      "cell_type": "code",
      "source": [],
      "metadata": {
        "id": "3hAarcJ6HfPh",
        "outputId": "19ff8292-f4fa-466f-c711-367bac1077ed",
        "colab": {
          "base_uri": "https://localhost:8080/",
          "height": 141
        }
      },
      "execution_count": 10,
      "outputs": [
        {
          "output_type": "error",
          "ename": "ERROR",
          "evalue": "ignored",
          "traceback": [
            "Error in eval(expr, envir, enclos): object 'bikes' not found\nTraceback:\n",
            "1. ggplot(bikes, aes(temp_feel, count))"
          ]
        }
      ]
    },
    {
      "cell_type": "code",
      "source": [],
      "metadata": {
        "id": "Ek4G2Y5NJPtq"
      },
      "execution_count": null,
      "outputs": []
    }
  ]
}