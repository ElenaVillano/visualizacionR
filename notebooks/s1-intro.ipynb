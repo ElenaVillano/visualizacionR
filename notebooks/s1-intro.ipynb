{
  "nbformat": 4,
  "nbformat_minor": 0,
  "metadata": {
    "colab": {
      "provenance": [],
      "authorship_tag": "ABX9TyM+J0gHnqiOGkh/JoxX3QxZ",
      "include_colab_link": true
    },
    "kernelspec": {
      "name": "ir",
      "display_name": "R"
    },
    "language_info": {
      "name": "R"
    }
  },
  "cells": [
    {
      "cell_type": "markdown",
      "metadata": {
        "id": "view-in-github",
        "colab_type": "text"
      },
      "source": [
        "<a href=\"https://colab.research.google.com/github/ElenaVillano/visualizacionR/blob/main/notebooks/sesion_1_intro.ipynb\" target=\"_parent\"><img src=\"https://colab.research.google.com/assets/colab-badge.svg\" alt=\"Open In Colab\"/></a>"
      ]
    },
    {
      "cell_type": "markdown",
      "source": [
        "# Taller de visualización de datos\n",
        "\n",
        "- **Objetivo**: Enseñar a los estudiantes a visualizar y analizar, con el programa R, distintos indicadores sobre democracia, responsabilidad corporativa, libertad de expresión, y derechos humanos en 6 países de América Latina (incluido México). Específicamente, se contempla que se presenten estos resultados al socio formador, Coparmex.\n",
        "\n",
        "## Temario:\n",
        "\n",
        "1. Notebooks/R\n",
        "  - ¿Qué es un notebook?\n",
        "  - Tipos de celdas (texto, código, resultados)\n",
        "2. Correr código básico\n",
        "3. Comentarios\n",
        "4. R-paquetes\n",
        "5. Tipos de datos\n",
        "    - numeric\n",
        "    - integer\n",
        "    - character\n",
        "    - logical\n",
        "6. Bases de datos\n",
        "\n"
      ],
      "metadata": {
        "id": "WbBVzgKwTaXt"
      }
    },
    {
      "cell_type": "code",
      "execution_count": 22,
      "metadata": {
        "id": "p1wyooZRGYH9",
        "colab": {
          "base_uri": "https://localhost:8080/",
          "height": 34
        },
        "outputId": "1365f9bd-f4a1-4816-9604-2a5e3518852c"
      },
      "outputs": [
        {
          "output_type": "display_data",
          "data": {
            "text/html": [
              "10"
            ],
            "text/markdown": "10",
            "text/latex": "10",
            "text/plain": [
              "[1] 10"
            ]
          },
          "metadata": {}
        }
      ],
      "source": [
        "5 + 5"
      ]
    },
    {
      "cell_type": "code",
      "source": [
        "# Packages\n",
        "# - ggplot\n",
        "# - tidyverse\n",
        "library(tidyverse)"
      ],
      "metadata": {
        "id": "cXLWubULTZcq"
      },
      "execution_count": null,
      "outputs": []
    },
    {
      "cell_type": "code",
      "source": [
        "# Variable\n",
        "a <- 8"
      ],
      "metadata": {
        "id": "9Na19EE7gho8"
      },
      "execution_count": 52,
      "outputs": []
    },
    {
      "cell_type": "code",
      "source": [
        "a"
      ],
      "metadata": {
        "id": "R0D5uTzOgpPk",
        "outputId": "2a59240f-e92f-494d-f24e-ba87582a4abd",
        "colab": {
          "base_uri": "https://localhost:8080/",
          "height": 34
        }
      },
      "execution_count": 53,
      "outputs": [
        {
          "output_type": "display_data",
          "data": {
            "text/html": [
              "8"
            ],
            "text/markdown": "8",
            "text/latex": "8",
            "text/plain": [
              "[1] 8"
            ]
          },
          "metadata": {}
        }
      ]
    },
    {
      "cell_type": "code",
      "source": [
        "# Vector\n",
        "b <- c(1,2,3,4)"
      ],
      "metadata": {
        "id": "btqGg818gsIf"
      },
      "execution_count": 55,
      "outputs": []
    },
    {
      "cell_type": "code",
      "source": [
        "b"
      ],
      "metadata": {
        "id": "c11PAkP3hlvS",
        "outputId": "432db55d-fce6-4fbd-9f90-52e9ba66e5fa",
        "colab": {
          "base_uri": "https://localhost:8080/",
          "height": 34
        }
      },
      "execution_count": 56,
      "outputs": [
        {
          "output_type": "display_data",
          "data": {
            "text/html": [
              "<style>\n",
              ".list-inline {list-style: none; margin:0; padding: 0}\n",
              ".list-inline>li {display: inline-block}\n",
              ".list-inline>li:not(:last-child)::after {content: \"\\00b7\"; padding: 0 .5ex}\n",
              "</style>\n",
              "<ol class=list-inline><li>1</li><li>2</li><li>3</li><li>4</li></ol>\n"
            ],
            "text/markdown": "1. 1\n2. 2\n3. 3\n4. 4\n\n\n",
            "text/latex": "\\begin{enumerate*}\n\\item 1\n\\item 2\n\\item 3\n\\item 4\n\\end{enumerate*}\n",
            "text/plain": [
              "[1] 1 2 3 4"
            ]
          },
          "metadata": {}
        }
      ]
    },
    {
      "cell_type": "markdown",
      "source": [
        "## Tipos de datos\n",
        "\n",
        "\n",
        "1. Numeric (1.2, 5, 7, 3.14159)\n",
        "2. Integer (1, 2, 3, 4, 5)\n",
        "3. Complex (i + 4)\n",
        "4. Logical (TRUE / FALSE)\n",
        "5. Character (\"a\", \"apple\")\n",
        "6. Factor\n",
        "\n",
        "\n",
        "### Numeric\n",
        "\n",
        "Números escritos como enteros o decimales.\n"
      ],
      "metadata": {
        "id": "EV_N78Y8dDoM"
      }
    },
    {
      "cell_type": "code",
      "source": [
        "# Crea un vector de números\n",
        "x <- c(2, 3, 4, 10.5)\n",
        "x"
      ],
      "metadata": {
        "colab": {
          "base_uri": "https://localhost:8080/",
          "height": 34
        },
        "id": "gXvA4txSGxGB",
        "outputId": "66d0c24e-15d0-49d7-fe7d-d83884da8341"
      },
      "execution_count": 57,
      "outputs": [
        {
          "output_type": "display_data",
          "data": {
            "text/html": [
              "<style>\n",
              ".list-inline {list-style: none; margin:0; padding: 0}\n",
              ".list-inline>li {display: inline-block}\n",
              ".list-inline>li:not(:last-child)::after {content: \"\\00b7\"; padding: 0 .5ex}\n",
              "</style>\n",
              "<ol class=list-inline><li>2</li><li>3</li><li>4</li><li>10.5</li></ol>\n"
            ],
            "text/markdown": "1. 2\n2. 3\n3. 4\n4. 10.5\n\n\n",
            "text/latex": "\\begin{enumerate*}\n\\item 2\n\\item 3\n\\item 4\n\\item 10.5\n\\end{enumerate*}\n",
            "text/plain": [
              "[1]  2.0  3.0  4.0 10.5"
            ]
          },
          "metadata": {}
        }
      ]
    },
    {
      "cell_type": "markdown",
      "source": [
        "Podemos revisar el tipo de dato utilizando las funciones:\n",
        "\n",
        "- `class()`: si es numérico\n",
        "- `typeof()`: si es double (números con decimales)"
      ],
      "metadata": {
        "id": "EeFXkcFefC6t"
      }
    },
    {
      "cell_type": "code",
      "source": [
        "class(x)"
      ],
      "metadata": {
        "id": "CZCpf9HZe7vb",
        "outputId": "fb02c2e4-cf78-4c96-e298-29ec2a5cebe8",
        "colab": {
          "base_uri": "https://localhost:8080/",
          "height": 34
        }
      },
      "execution_count": 58,
      "outputs": [
        {
          "output_type": "display_data",
          "data": {
            "text/html": [
              "'numeric'"
            ],
            "text/markdown": "'numeric'",
            "text/latex": "'numeric'",
            "text/plain": [
              "[1] \"numeric\""
            ]
          },
          "metadata": {}
        }
      ]
    },
    {
      "cell_type": "code",
      "source": [
        "typeof(x)"
      ],
      "metadata": {
        "id": "9AHVakblgF8X",
        "outputId": "bf977158-f704-405c-d42b-f6a0d08807e4",
        "colab": {
          "base_uri": "https://localhost:8080/",
          "height": 34
        }
      },
      "execution_count": 59,
      "outputs": [
        {
          "output_type": "display_data",
          "data": {
            "text/html": [
              "'double'"
            ],
            "text/markdown": "'double'",
            "text/latex": "'double'",
            "text/plain": [
              "[1] \"double\""
            ]
          },
          "metadata": {}
        }
      ]
    },
    {
      "cell_type": "markdown",
      "source": [
        "Se pueden hacer operaciones matemáticas con valores numéricos"
      ],
      "metadata": {
        "id": "opwDYEoLgauv"
      }
    },
    {
      "cell_type": "code",
      "source": [
        "x + 4"
      ],
      "metadata": {
        "id": "RYufO4ThgVs2",
        "outputId": "a5c753f2-b374-4109-97e2-bd3854b3160e",
        "colab": {
          "base_uri": "https://localhost:8080/",
          "height": 34
        }
      },
      "execution_count": 60,
      "outputs": [
        {
          "output_type": "display_data",
          "data": {
            "text/html": [
              "<style>\n",
              ".list-inline {list-style: none; margin:0; padding: 0}\n",
              ".list-inline>li {display: inline-block}\n",
              ".list-inline>li:not(:last-child)::after {content: \"\\00b7\"; padding: 0 .5ex}\n",
              "</style>\n",
              "<ol class=list-inline><li>6</li><li>7</li><li>8</li><li>14.5</li></ol>\n"
            ],
            "text/markdown": "1. 6\n2. 7\n3. 8\n4. 14.5\n\n\n",
            "text/latex": "\\begin{enumerate*}\n\\item 6\n\\item 7\n\\item 8\n\\item 14.5\n\\end{enumerate*}\n",
            "text/plain": [
              "[1]  6.0  7.0  8.0 14.5"
            ]
          },
          "metadata": {}
        }
      ]
    },
    {
      "cell_type": "markdown",
      "source": [
        "### Integer\n",
        "\n",
        "Número sin decimales."
      ],
      "metadata": {
        "id": "61RYfBUeiNF8"
      }
    },
    {
      "cell_type": "code",
      "source": [
        "y <- c(1, 4, 6, 9)"
      ],
      "metadata": {
        "id": "56Jje8hTiL_I"
      },
      "execution_count": 61,
      "outputs": []
    },
    {
      "cell_type": "code",
      "source": [
        "class(y)"
      ],
      "metadata": {
        "id": "zg9k6PIKip2s",
        "outputId": "e0e43c71-57d6-4458-e369-2117006bcec3",
        "colab": {
          "base_uri": "https://localhost:8080/",
          "height": 34
        }
      },
      "execution_count": 62,
      "outputs": [
        {
          "output_type": "display_data",
          "data": {
            "text/html": [
              "'numeric'"
            ],
            "text/markdown": "'numeric'",
            "text/latex": "'numeric'",
            "text/plain": [
              "[1] \"numeric\""
            ]
          },
          "metadata": {}
        }
      ]
    },
    {
      "cell_type": "code",
      "source": [
        "y <- as.integer(y)"
      ],
      "metadata": {
        "id": "xHMR3wSnirgL"
      },
      "execution_count": 63,
      "outputs": []
    },
    {
      "cell_type": "code",
      "source": [
        "class(y)"
      ],
      "metadata": {
        "id": "Zdc4ahoHiuy_",
        "outputId": "46275baa-7128-4265-b0f3-5bf09984e86f",
        "colab": {
          "base_uri": "https://localhost:8080/",
          "height": 34
        }
      },
      "execution_count": 64,
      "outputs": [
        {
          "output_type": "display_data",
          "data": {
            "text/html": [
              "'integer'"
            ],
            "text/markdown": "'integer'",
            "text/latex": "'integer'",
            "text/plain": [
              "[1] \"integer\""
            ]
          },
          "metadata": {}
        }
      ]
    },
    {
      "cell_type": "markdown",
      "source": [
        "### Character\n",
        "\n",
        "Almacenan texto, también se les conoce como strings, y para indicar que algo es un character se colocan '' '' alrededor."
      ],
      "metadata": {
        "id": "yL02lMJ_i3Lf"
      }
    },
    {
      "cell_type": "code",
      "source": [
        "z <- c('Estos','son','caracteres')"
      ],
      "metadata": {
        "id": "6IEf7HoJi2D4"
      },
      "execution_count": 65,
      "outputs": []
    },
    {
      "cell_type": "code",
      "source": [
        "class(z)"
      ],
      "metadata": {
        "id": "dI1RzsnzjT3u",
        "outputId": "78f4a72e-f59a-4d95-d1d5-157e4d9e7084",
        "colab": {
          "base_uri": "https://localhost:8080/",
          "height": 34
        }
      },
      "execution_count": 66,
      "outputs": [
        {
          "output_type": "display_data",
          "data": {
            "text/html": [
              "'character'"
            ],
            "text/markdown": "'character'",
            "text/latex": "'character'",
            "text/plain": [
              "[1] \"character\""
            ]
          },
          "metadata": {}
        }
      ]
    },
    {
      "cell_type": "code",
      "source": [
        "z <- c(\"1\", \"4\", \"5\", \"7\", \"8\")"
      ],
      "metadata": {
        "id": "A3SzJYMMjb5K"
      },
      "execution_count": 67,
      "outputs": []
    },
    {
      "cell_type": "code",
      "source": [
        "z"
      ],
      "metadata": {
        "id": "8gWE_kDmjb82",
        "outputId": "542f7de5-e1fb-44c0-89d1-d9071eab8d03",
        "colab": {
          "base_uri": "https://localhost:8080/",
          "height": 34
        }
      },
      "execution_count": 68,
      "outputs": [
        {
          "output_type": "display_data",
          "data": {
            "text/html": [
              "<style>\n",
              ".list-inline {list-style: none; margin:0; padding: 0}\n",
              ".list-inline>li {display: inline-block}\n",
              ".list-inline>li:not(:last-child)::after {content: \"\\00b7\"; padding: 0 .5ex}\n",
              "</style>\n",
              "<ol class=list-inline><li>'1'</li><li>'4'</li><li>'5'</li><li>'7'</li><li>'8'</li></ol>\n"
            ],
            "text/markdown": "1. '1'\n2. '4'\n3. '5'\n4. '7'\n5. '8'\n\n\n",
            "text/latex": "\\begin{enumerate*}\n\\item '1'\n\\item '4'\n\\item '5'\n\\item '7'\n\\item '8'\n\\end{enumerate*}\n",
            "text/plain": [
              "[1] \"1\" \"4\" \"5\" \"7\" \"8\""
            ]
          },
          "metadata": {}
        }
      ]
    },
    {
      "cell_type": "code",
      "source": [
        "mean(z)"
      ],
      "metadata": {
        "id": "chb7t-Bujidh",
        "outputId": "76a669a5-8f3c-49a4-a7d0-5dd265fb7466",
        "colab": {
          "base_uri": "https://localhost:8080/",
          "height": 69
        }
      },
      "execution_count": 69,
      "outputs": [
        {
          "output_type": "stream",
          "name": "stderr",
          "text": [
            "Warning message in mean.default(z):\n",
            "“argument is not numeric or logical: returning NA”\n"
          ]
        },
        {
          "output_type": "display_data",
          "data": {
            "text/html": [
              "&lt;NA&gt;"
            ],
            "text/markdown": "&lt;NA&gt;",
            "text/latex": "<NA>",
            "text/plain": [
              "[1] NA"
            ]
          },
          "metadata": {}
        }
      ]
    },
    {
      "cell_type": "markdown",
      "source": [
        "### Factor\n",
        "\n",
        "Factores son un tipo especial de datos y se usa principalmente para representar variables categóricas."
      ],
      "metadata": {
        "id": "asqvgH1_j6Ge"
      }
    },
    {
      "cell_type": "code",
      "source": [
        "places <- factor(c(\"first\", \"first\", \"second\", \"third\", \"fifth\", \"fourth\", \"second\"))\n",
        "places"
      ],
      "metadata": {
        "id": "QFdSfIDNjpzI",
        "outputId": "101c5702-f274-4549-db97-9481508e8a42",
        "colab": {
          "base_uri": "https://localhost:8080/",
          "height": 69
        }
      },
      "execution_count": 72,
      "outputs": [
        {
          "output_type": "display_data",
          "data": {
            "text/html": [
              "<style>\n",
              ".list-inline {list-style: none; margin:0; padding: 0}\n",
              ".list-inline>li {display: inline-block}\n",
              ".list-inline>li:not(:last-child)::after {content: \"\\00b7\"; padding: 0 .5ex}\n",
              "</style>\n",
              "<ol class=list-inline><li>first</li><li>first</li><li>second</li><li>third</li><li>fifth</li><li>fourth</li><li>second</li></ol>\n",
              "\n",
              "<details>\n",
              "\t<summary style=display:list-item;cursor:pointer>\n",
              "\t\t<strong>Levels</strong>:\n",
              "\t</summary>\n",
              "\t<style>\n",
              "\t.list-inline {list-style: none; margin:0; padding: 0}\n",
              "\t.list-inline>li {display: inline-block}\n",
              "\t.list-inline>li:not(:last-child)::after {content: \"\\00b7\"; padding: 0 .5ex}\n",
              "\t</style>\n",
              "\t<ol class=list-inline><li>'fifth'</li><li>'first'</li><li>'fourth'</li><li>'second'</li><li>'third'</li></ol>\n",
              "</details>"
            ],
            "text/markdown": "1. first\n2. first\n3. second\n4. third\n5. fifth\n6. fourth\n7. second\n\n\n\n**Levels**: 1. 'fifth'\n2. 'first'\n3. 'fourth'\n4. 'second'\n5. 'third'\n\n\n",
            "text/latex": "\\begin{enumerate*}\n\\item first\n\\item first\n\\item second\n\\item third\n\\item fifth\n\\item fourth\n\\item second\n\\end{enumerate*}\n\n\\emph{Levels}: \\begin{enumerate*}\n\\item 'fifth'\n\\item 'first'\n\\item 'fourth'\n\\item 'second'\n\\item 'third'\n\\end{enumerate*}\n",
            "text/plain": [
              "[1] first  first  second third  fifth  fourth second\n",
              "Levels: fifth first fourth second third"
            ]
          },
          "metadata": {}
        }
      ]
    },
    {
      "cell_type": "markdown",
      "source": [
        "### Bases de datos\n",
        "\n",
        "- De preferencia no utilizar excel para almacenar bases de datos.\n",
        "- Utilizar formato csv, columna-renglón.\n",
        "- Como cargar las bases de datos en tu propia computadora\n",
        "- Existen bases de datos pre-cargadas"
      ],
      "metadata": {
        "id": "meCTIKgBa0D0"
      }
    },
    {
      "cell_type": "code",
      "source": [
        "head(iris)"
      ],
      "metadata": {
        "colab": {
          "base_uri": "https://localhost:8080/",
          "height": 286
        },
        "id": "3hAarcJ6HfPh",
        "outputId": "a2c13b44-8e4f-43ec-8fa3-9e7c7b534728"
      },
      "execution_count": 81,
      "outputs": [
        {
          "output_type": "display_data",
          "data": {
            "text/html": [
              "<table class=\"dataframe\">\n",
              "<caption>A data.frame: 6 × 5</caption>\n",
              "<thead>\n",
              "\t<tr><th></th><th scope=col>Sepal.Length</th><th scope=col>Sepal.Width</th><th scope=col>Petal.Length</th><th scope=col>Petal.Width</th><th scope=col>Species</th></tr>\n",
              "\t<tr><th></th><th scope=col>&lt;dbl&gt;</th><th scope=col>&lt;dbl&gt;</th><th scope=col>&lt;dbl&gt;</th><th scope=col>&lt;dbl&gt;</th><th scope=col>&lt;fct&gt;</th></tr>\n",
              "</thead>\n",
              "<tbody>\n",
              "\t<tr><th scope=row>1</th><td>5.1</td><td>3.5</td><td>1.4</td><td>0.2</td><td>setosa</td></tr>\n",
              "\t<tr><th scope=row>2</th><td>4.9</td><td>3.0</td><td>1.4</td><td>0.2</td><td>setosa</td></tr>\n",
              "\t<tr><th scope=row>3</th><td>4.7</td><td>3.2</td><td>1.3</td><td>0.2</td><td>setosa</td></tr>\n",
              "\t<tr><th scope=row>4</th><td>4.6</td><td>3.1</td><td>1.5</td><td>0.2</td><td>setosa</td></tr>\n",
              "\t<tr><th scope=row>5</th><td>5.0</td><td>3.6</td><td>1.4</td><td>0.2</td><td>setosa</td></tr>\n",
              "\t<tr><th scope=row>6</th><td>5.4</td><td>3.9</td><td>1.7</td><td>0.4</td><td>setosa</td></tr>\n",
              "</tbody>\n",
              "</table>\n"
            ],
            "text/markdown": "\nA data.frame: 6 × 5\n\n| <!--/--> | Sepal.Length &lt;dbl&gt; | Sepal.Width &lt;dbl&gt; | Petal.Length &lt;dbl&gt; | Petal.Width &lt;dbl&gt; | Species &lt;fct&gt; |\n|---|---|---|---|---|---|\n| 1 | 5.1 | 3.5 | 1.4 | 0.2 | setosa |\n| 2 | 4.9 | 3.0 | 1.4 | 0.2 | setosa |\n| 3 | 4.7 | 3.2 | 1.3 | 0.2 | setosa |\n| 4 | 4.6 | 3.1 | 1.5 | 0.2 | setosa |\n| 5 | 5.0 | 3.6 | 1.4 | 0.2 | setosa |\n| 6 | 5.4 | 3.9 | 1.7 | 0.4 | setosa |\n\n",
            "text/latex": "A data.frame: 6 × 5\n\\begin{tabular}{r|lllll}\n  & Sepal.Length & Sepal.Width & Petal.Length & Petal.Width & Species\\\\\n  & <dbl> & <dbl> & <dbl> & <dbl> & <fct>\\\\\n\\hline\n\t1 & 5.1 & 3.5 & 1.4 & 0.2 & setosa\\\\\n\t2 & 4.9 & 3.0 & 1.4 & 0.2 & setosa\\\\\n\t3 & 4.7 & 3.2 & 1.3 & 0.2 & setosa\\\\\n\t4 & 4.6 & 3.1 & 1.5 & 0.2 & setosa\\\\\n\t5 & 5.0 & 3.6 & 1.4 & 0.2 & setosa\\\\\n\t6 & 5.4 & 3.9 & 1.7 & 0.4 & setosa\\\\\n\\end{tabular}\n",
            "text/plain": [
              "  Sepal.Length Sepal.Width Petal.Length Petal.Width Species\n",
              "1 5.1          3.5         1.4          0.2         setosa \n",
              "2 4.9          3.0         1.4          0.2         setosa \n",
              "3 4.7          3.2         1.3          0.2         setosa \n",
              "4 4.6          3.1         1.5          0.2         setosa \n",
              "5 5.0          3.6         1.4          0.2         setosa \n",
              "6 5.4          3.9         1.7          0.4         setosa "
            ]
          },
          "metadata": {}
        }
      ]
    },
    {
      "cell_type": "code",
      "source": [
        "class(iris)"
      ],
      "metadata": {
        "colab": {
          "base_uri": "https://localhost:8080/",
          "height": 34
        },
        "id": "Ek4G2Y5NJPtq",
        "outputId": "8e9e9691-6895-4cac-880e-107bfcd4dbd4"
      },
      "execution_count": 82,
      "outputs": [
        {
          "output_type": "display_data",
          "data": {
            "text/html": [
              "'data.frame'"
            ],
            "text/markdown": "'data.frame'",
            "text/latex": "'data.frame'",
            "text/plain": [
              "[1] \"data.frame\""
            ]
          },
          "metadata": {}
        }
      ]
    },
    {
      "cell_type": "code",
      "source": [
        "dim(iris)"
      ],
      "metadata": {
        "id": "VTkN0QQTbxZG",
        "outputId": "3809c09d-7915-4b0a-e9d0-cc9e3bb931e9",
        "colab": {
          "base_uri": "https://localhost:8080/",
          "height": 34
        }
      },
      "execution_count": 83,
      "outputs": [
        {
          "output_type": "display_data",
          "data": {
            "text/html": [
              "<style>\n",
              ".list-inline {list-style: none; margin:0; padding: 0}\n",
              ".list-inline>li {display: inline-block}\n",
              ".list-inline>li:not(:last-child)::after {content: \"\\00b7\"; padding: 0 .5ex}\n",
              "</style>\n",
              "<ol class=list-inline><li>150</li><li>5</li></ol>\n"
            ],
            "text/markdown": "1. 150\n2. 5\n\n\n",
            "text/latex": "\\begin{enumerate*}\n\\item 150\n\\item 5\n\\end{enumerate*}\n",
            "text/plain": [
              "[1] 150   5"
            ]
          },
          "metadata": {}
        }
      ]
    },
    {
      "cell_type": "code",
      "source": [
        "summary(iris)"
      ],
      "metadata": {
        "id": "mTHmdRT7bzah",
        "outputId": "913d553e-71c7-4582-c53e-622f1a4df8b1",
        "colab": {
          "base_uri": "https://localhost:8080/",
          "height": 260
        }
      },
      "execution_count": 84,
      "outputs": [
        {
          "output_type": "display_data",
          "data": {
            "text/plain": [
              "  Sepal.Length    Sepal.Width     Petal.Length    Petal.Width   \n",
              " Min.   :4.300   Min.   :2.000   Min.   :1.000   Min.   :0.100  \n",
              " 1st Qu.:5.100   1st Qu.:2.800   1st Qu.:1.600   1st Qu.:0.300  \n",
              " Median :5.800   Median :3.000   Median :4.350   Median :1.300  \n",
              " Mean   :5.843   Mean   :3.057   Mean   :3.758   Mean   :1.199  \n",
              " 3rd Qu.:6.400   3rd Qu.:3.300   3rd Qu.:5.100   3rd Qu.:1.800  \n",
              " Max.   :7.900   Max.   :4.400   Max.   :6.900   Max.   :2.500  \n",
              "       Species  \n",
              " setosa    :50  \n",
              " versicolor:50  \n",
              " virginica :50  \n",
              "                \n",
              "                \n",
              "                "
            ]
          },
          "metadata": {}
        }
      ]
    }
  ]
}