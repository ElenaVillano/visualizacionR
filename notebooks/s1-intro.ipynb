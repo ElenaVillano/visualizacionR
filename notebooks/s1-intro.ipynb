{
  "nbformat": 4,
  "nbformat_minor": 0,
  "metadata": {
    "colab": {
      "provenance": [],
      "authorship_tag": "ABX9TyNgFvt2THPL67VHECcB5Ynp",
      "include_colab_link": true
    },
    "kernelspec": {
      "name": "ir",
      "display_name": "R"
    },
    "language_info": {
      "name": "R"
    }
  },
  "cells": [
    {
      "cell_type": "markdown",
      "metadata": {
        "id": "view-in-github",
        "colab_type": "text"
      },
      "source": [
        "<a href=\"https://colab.research.google.com/github/ElenaVillano/visualizacionR/blob/main/notebooks/s1-intro.ipynb\" target=\"_parent\"><img src=\"https://colab.research.google.com/assets/colab-badge.svg\" alt=\"Open In Colab\"/></a>"
      ]
    },
    {
      "cell_type": "markdown",
      "source": [
        "# Taller de visualización de datos sesión 1 (parte 1)\n",
        "\n",
        "### Por Elena Villalobos\n",
        "\n",
        "## 1. Notebooks/R\n",
        "\n",
        "### 1.1 ¿Qué es un notebook?\n",
        "\n",
        "Los notebooks son un tipo de archivo que nos permite ejecutar código en Python o R.\n",
        "\n",
        "  - Para cambiar a R -> `Runtime/Change runtime type/R`.\n",
        "\n",
        "Los notebooks dos tipos de celdas:\n",
        "\n",
        "  - Celdas de texto\n",
        "  - Celdas de código\n",
        "\n",
        "También se puede correr R en RStudio, con archivos con terminación `.R`.\n",
        "\n",
        "## 2. Básicos en R\n",
        "\n",
        "  - Variable: asignación de un valor a un objeto\n",
        "  - Vector: asignación de un conjunto de valores a un objeto\n",
        "  - Comentarios: Líneas de código que no se corre\n"
      ],
      "metadata": {
        "id": "WbBVzgKwTaXt"
      }
    },
    {
      "cell_type": "code",
      "execution_count": null,
      "metadata": {
        "id": "p1wyooZRGYH9"
      },
      "outputs": [],
      "source": [
        "5 + 5"
      ]
    },
    {
      "cell_type": "code",
      "source": [
        "# Variable\n",
        "a <- 8"
      ],
      "metadata": {
        "id": "9Na19EE7gho8"
      },
      "execution_count": null,
      "outputs": []
    },
    {
      "cell_type": "code",
      "source": [
        "a"
      ],
      "metadata": {
        "id": "R0D5uTzOgpPk"
      },
      "execution_count": null,
      "outputs": []
    },
    {
      "cell_type": "code",
      "source": [
        "# Vector\n",
        "b <- c(1,2,3,4)"
      ],
      "metadata": {
        "id": "btqGg818gsIf"
      },
      "execution_count": null,
      "outputs": []
    },
    {
      "cell_type": "code",
      "source": [
        "b"
      ],
      "metadata": {
        "id": "c11PAkP3hlvS"
      },
      "execution_count": null,
      "outputs": []
    },
    {
      "cell_type": "code",
      "source": [
        "# Comentarios\n",
        "# puedo poner\n",
        "# el texto que quiera\n",
        "# en una celda de código"
      ],
      "metadata": {
        "id": "U1xU0rBW_ncU"
      },
      "execution_count": null,
      "outputs": []
    },
    {
      "cell_type": "markdown",
      "source": [
        "## 3. Tipos de datos\n",
        "\n",
        "\n",
        "1. Numeric (1.2, 5, 7, 3.14159)\n",
        "2. Integer (1, 2, 3, 4, 5)\n",
        "3. Complex (i + 4)\n",
        "4. Logical (TRUE / FALSE)\n",
        "5. Character (\"a\", \"apple\")\n",
        "6. Factor\n",
        "\n",
        "\n",
        "### 3.1 Numeric\n",
        "\n",
        "Números escritos como enteros o decimales.\n"
      ],
      "metadata": {
        "id": "EV_N78Y8dDoM"
      }
    },
    {
      "cell_type": "code",
      "source": [
        "# Crea un vector de números\n",
        "x <- c(2, 3, 4, 10.5)\n",
        "x"
      ],
      "metadata": {
        "id": "gXvA4txSGxGB"
      },
      "execution_count": null,
      "outputs": []
    },
    {
      "cell_type": "markdown",
      "source": [
        "Podemos revisar el tipo de dato utilizando las funciones:\n",
        "\n",
        "- `class()`: si es numérico\n",
        "- `typeof()`: si es double (números con decimales)"
      ],
      "metadata": {
        "id": "EeFXkcFefC6t"
      }
    },
    {
      "cell_type": "code",
      "source": [
        "class(x)"
      ],
      "metadata": {
        "id": "CZCpf9HZe7vb"
      },
      "execution_count": null,
      "outputs": []
    },
    {
      "cell_type": "code",
      "source": [
        "typeof(x)"
      ],
      "metadata": {
        "id": "9AHVakblgF8X"
      },
      "execution_count": null,
      "outputs": []
    },
    {
      "cell_type": "markdown",
      "source": [
        "Se pueden hacer operaciones matemáticas con valores numéricos"
      ],
      "metadata": {
        "id": "opwDYEoLgauv"
      }
    },
    {
      "cell_type": "code",
      "source": [
        "x + 4"
      ],
      "metadata": {
        "id": "RYufO4ThgVs2"
      },
      "execution_count": null,
      "outputs": []
    },
    {
      "cell_type": "markdown",
      "source": [
        "### 3.2 Integer\n",
        "\n",
        "Número sin decimales."
      ],
      "metadata": {
        "id": "61RYfBUeiNF8"
      }
    },
    {
      "cell_type": "code",
      "source": [
        "y <- c(1, 4, 6, 9)"
      ],
      "metadata": {
        "id": "56Jje8hTiL_I"
      },
      "execution_count": null,
      "outputs": []
    },
    {
      "cell_type": "code",
      "source": [
        "class(y)"
      ],
      "metadata": {
        "id": "zg9k6PIKip2s"
      },
      "execution_count": null,
      "outputs": []
    },
    {
      "cell_type": "code",
      "source": [
        "# Con esta función lo hacemos entero\n",
        "y <- as.integer(y)"
      ],
      "metadata": {
        "id": "xHMR3wSnirgL"
      },
      "execution_count": null,
      "outputs": []
    },
    {
      "cell_type": "code",
      "source": [
        "class(y)"
      ],
      "metadata": {
        "id": "Zdc4ahoHiuy_"
      },
      "execution_count": null,
      "outputs": []
    },
    {
      "cell_type": "markdown",
      "source": [
        "### 3.3 Character\n",
        "\n",
        "Almacenan texto, también se les conoce como strings, y para indicar que algo es un character se colocan '' '' alrededor."
      ],
      "metadata": {
        "id": "yL02lMJ_i3Lf"
      }
    },
    {
      "cell_type": "code",
      "source": [
        "z <- c('Estos','son','caracteres')"
      ],
      "metadata": {
        "id": "6IEf7HoJi2D4"
      },
      "execution_count": null,
      "outputs": []
    },
    {
      "cell_type": "code",
      "source": [
        "class(z)"
      ],
      "metadata": {
        "id": "dI1RzsnzjT3u"
      },
      "execution_count": null,
      "outputs": []
    },
    {
      "cell_type": "code",
      "source": [
        "z <- c(\"1\", \"4\", \"5\", \"7\", \"8\")"
      ],
      "metadata": {
        "id": "A3SzJYMMjb5K"
      },
      "execution_count": null,
      "outputs": []
    },
    {
      "cell_type": "code",
      "source": [
        "z"
      ],
      "metadata": {
        "id": "8gWE_kDmjb82"
      },
      "execution_count": null,
      "outputs": []
    },
    {
      "cell_type": "code",
      "source": [
        "# Son caracteres por lo que no se les puede hacer operaciones usuales\n",
        "mean(z)"
      ],
      "metadata": {
        "id": "chb7t-Bujidh"
      },
      "execution_count": null,
      "outputs": []
    },
    {
      "cell_type": "markdown",
      "source": [
        "### 3.4 Factor\n",
        "\n",
        "Factores son un tipo especial de datos y se usa principalmente para representar variables categóricas."
      ],
      "metadata": {
        "id": "asqvgH1_j6Ge"
      }
    },
    {
      "cell_type": "code",
      "source": [
        "places <- factor(c(\"first\", \"first\", \"second\", \"third\", \"fifth\", \"fourth\", \"second\"))\n",
        "places"
      ],
      "metadata": {
        "id": "QFdSfIDNjpzI"
      },
      "execution_count": null,
      "outputs": []
    },
    {
      "cell_type": "markdown",
      "source": [
        "### 4. Bases de datos\n",
        "\n",
        "- De preferencia no utilizar excel para almacenar bases de datos.\n",
        "- Utilizar formato csv, columna-renglón.\n",
        "- Como cargar las bases de datos en tu propia computadora\n",
        "- Existen bases de datos pre-cargadas"
      ],
      "metadata": {
        "id": "meCTIKgBa0D0"
      }
    },
    {
      "cell_type": "code",
      "source": [
        "head(mtcars)"
      ],
      "metadata": {
        "id": "3hAarcJ6HfPh"
      },
      "execution_count": null,
      "outputs": []
    },
    {
      "cell_type": "code",
      "source": [
        "class(mtcars)"
      ],
      "metadata": {
        "id": "Ek4G2Y5NJPtq"
      },
      "execution_count": null,
      "outputs": []
    },
    {
      "cell_type": "code",
      "source": [
        "dim(mtcars)"
      ],
      "metadata": {
        "id": "VTkN0QQTbxZG"
      },
      "execution_count": null,
      "outputs": []
    },
    {
      "cell_type": "code",
      "source": [
        "summary(mtcars)"
      ],
      "metadata": {
        "id": "mTHmdRT7bzah"
      },
      "execution_count": null,
      "outputs": []
    }
  ]
}