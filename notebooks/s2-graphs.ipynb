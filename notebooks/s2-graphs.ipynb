{
  "nbformat": 4,
  "nbformat_minor": 0,
  "metadata": {
    "colab": {
      "provenance": [],
      "authorship_tag": "ABX9TyMqrEtN0xuDse1/s0svBft4",
      "include_colab_link": true
    },
    "kernelspec": {
      "name": "ir",
      "display_name": "R"
    },
    "language_info": {
      "name": "R"
    }
  },
  "cells": [
    {
      "cell_type": "markdown",
      "metadata": {
        "id": "view-in-github",
        "colab_type": "text"
      },
      "source": [
        "<a href=\"https://colab.research.google.com/github/ElenaVillano/visualizacionR/blob/main/notebooks/s2-graphs.ipynb\" target=\"_parent\"><img src=\"https://colab.research.google.com/assets/colab-badge.svg\" alt=\"Open In Colab\"/></a>"
      ]
    },
    {
      "cell_type": "markdown",
      "source": [
        "# Taller de visualización de datos sesión 1 (parte 2)\n",
        "\n",
        "### Por Elena Villalobos\n",
        "\n"
      ],
      "metadata": {
        "id": "oeuOw8C5nH6I"
      }
    },
    {
      "cell_type": "markdown",
      "source": [
        "## 1. Paquetes"
      ],
      "metadata": {
        "id": "E_XJIzdJDiET"
      }
    },
    {
      "cell_type": "code",
      "execution_count": null,
      "metadata": {
        "id": "2D610zVOmtDS"
      },
      "outputs": [],
      "source": [
        "# Packages\n",
        "# - ggplot\n",
        "# - tidyverse\n",
        "library(tidyverse)"
      ]
    },
    {
      "cell_type": "markdown",
      "source": [
        "## 2. Primeros pasos:\n",
        "\n",
        "  - Tener el contexto de la base de datos\n",
        "  - Hacernos preguntas de qué es lo que queremos responder con el gráfico\n",
        "  - ¿Comparaciones entre el rendimiento de los coches?"
      ],
      "metadata": {
        "id": "Vqd3cKbLNWTU"
      }
    },
    {
      "cell_type": "markdown",
      "source": [
        "### 2.1 Datos de carros\n",
        "\n",
        "Lista de carros con características de su diseño\n",
        "\n",
        "  - mpg - millas por galón\n",
        "  - cyl - número de cilindros\n",
        "  - disp - desplazamiento\n",
        "  - hp - caballos de fuerza, brutos\n",
        "  - drat - relacion del eje trasero\n",
        "  - wt - peso\n",
        "  - qsec - tiempo de 1/4 de milla\n",
        "  - vs - forma de motor (forma V o recto)\n",
        "  - am - tipo de transmisión (automático o manual)\n",
        "  - gear - número de engranajes\n",
        "  - carb - número de carburadores"
      ],
      "metadata": {
        "id": "seFaxnafDoOg"
      }
    },
    {
      "cell_type": "code",
      "source": [
        "mtcars"
      ],
      "metadata": {
        "id": "gOVsGnAknHP4"
      },
      "execution_count": null,
      "outputs": []
    },
    {
      "cell_type": "code",
      "source": [
        "head(mtcars)"
      ],
      "metadata": {
        "id": "8oLaxcxpPyJ0"
      },
      "execution_count": null,
      "outputs": []
    },
    {
      "cell_type": "code",
      "source": [
        "tail(mtcars)"
      ],
      "metadata": {
        "id": "bykOcC5LQEhu"
      },
      "execution_count": null,
      "outputs": []
    },
    {
      "cell_type": "markdown",
      "source": [
        "## 3. Graficadondo con ggplot2\n",
        "\n",
        "- Paquete que viene incluido en Tidyverse\n",
        "- Trabaja mucho mejor con datos en formato largo *long formart*: una columna para cada variable, y una observación para cada fila***\n",
        "- Mejor datos bien estructurados\n",
        "- Utiliza un formato de graficación donde se van agregando **por capas** nuevos elementos\n",
        "\n"
      ],
      "metadata": {
        "id": "mzVedguXndtg"
      }
    },
    {
      "cell_type": "markdown",
      "source": [
        "### 3.1 Estructura básica para graficar:\n",
        "\n",
        "```\n",
        "ggplot(data = <DATA>, mapping = aes(<MAPPINGS>)) +  \n",
        "      <GEOM_FUNCTION>()\n",
        "\n",
        "ggplot(data = <DATA>) +\n",
        "  <GEOM_FUNCTION>(mapping = aes(<MAPPINGS>))\n",
        "```"
      ],
      "metadata": {
        "id": "SWuIe4H1Db1m"
      }
    },
    {
      "cell_type": "markdown",
      "source": [
        "#### 3.1.1 ggplot()\n",
        "\n",
        "En la primera parte de la función se está vinculando el plot a un dataframe."
      ],
      "metadata": {
        "id": "X7IPpKqrDtjg"
      }
    },
    {
      "cell_type": "code",
      "source": [
        "ggplot(data = mtcars)"
      ],
      "metadata": {
        "id": "SR-X8kgXnZAI"
      },
      "execution_count": null,
      "outputs": []
    },
    {
      "cell_type": "markdown",
      "source": [
        "#### 3.1.2 aes()\n",
        "\n",
        "En la segunda parte estamos, estamos definiendo el mapeo estético del plot `aes`, seleccionando las variables que graficaremos y cómo la queremos presentar en el gráfico.\n",
        "\n",
        "- Posición *x* o *y*\n",
        "- Tamaño\n",
        "- Forma\n",
        "- Color"
      ],
      "metadata": {
        "id": "0A0nbOOZUS_y"
      }
    },
    {
      "cell_type": "code",
      "source": [
        "ggplot(data = mtcars, mapping = aes(x = mpg , y = hp ))"
      ],
      "metadata": {
        "id": "QMcMGGMoUPFb"
      },
      "execution_count": null,
      "outputs": []
    },
    {
      "cell_type": "markdown",
      "source": [
        "#### 3.1.3 geom_algo\n",
        "\n",
        "Se agregan funciones de `geoms` que son representaciones gráficas de los datos en el plot, existen muchas pero hoy nos enfocaremos en las que sigue:\n",
        "\n",
        "  - `geom_point()`\n",
        "  - `geom_boxplot()`\n",
        "  - `geom_line()`\n",
        "\n",
        "Para agregar esta función se utiliza el signo de +"
      ],
      "metadata": {
        "id": "TTKa7DLIVYgU"
      }
    },
    {
      "cell_type": "code",
      "source": [
        "ggplot(data = mtcars, mapping = aes(x = mpg , y = hp )) +\n",
        "  geom_point()"
      ],
      "metadata": {
        "id": "FgdZNeL-SiMy"
      },
      "execution_count": null,
      "outputs": []
    },
    {
      "cell_type": "markdown",
      "source": [
        "Debido a que ggplot trabaja en capas, puedes tener templates de gráficos e ir dibujando sobre objetos"
      ],
      "metadata": {
        "id": "mrtC2o3CYGpl"
      }
    },
    {
      "cell_type": "code",
      "source": [
        "comp1 <- ggplot(data = mtcars, mapping = aes(x = mpg , y = hp ))"
      ],
      "metadata": {
        "id": "0Obz8lEcoF3j"
      },
      "execution_count": null,
      "outputs": []
    },
    {
      "cell_type": "code",
      "source": [
        "comp1 +\n",
        "  geom_point()"
      ],
      "metadata": {
        "id": "0K_qlbSSYcJa"
      },
      "execution_count": null,
      "outputs": []
    },
    {
      "cell_type": "markdown",
      "source": [
        "Aquí ya es donde comenzamos a agregar funciones adicionales para que se vean mejor los gráficos."
      ],
      "metadata": {
        "id": "sjn80XkIY9D-"
      }
    },
    {
      "cell_type": "code",
      "source": [
        "comp1 +\n",
        "  geom_point(color = 'blue')"
      ],
      "metadata": {
        "id": "GGvNv7N3YdII"
      },
      "execution_count": null,
      "outputs": []
    },
    {
      "cell_type": "markdown",
      "source": [
        "**Ejercicio 1:**\n",
        "\n",
        "Realiza la comparación entre el desplazamiento y tiempo en millas."
      ],
      "metadata": {
        "id": "Kg92X2CqZpNa"
      }
    },
    {
      "cell_type": "code",
      "source": [],
      "metadata": {
        "id": "DLAOVNMWYrzS"
      },
      "execution_count": null,
      "outputs": []
    },
    {
      "cell_type": "code",
      "source": [],
      "metadata": {
        "id": "HO-t1xgIYxWs"
      },
      "execution_count": null,
      "outputs": []
    },
    {
      "cell_type": "markdown",
      "source": [
        "### 3.2 Agregar información\n",
        "\n",
        "- Agregar otra variable\n",
        "- Acomodo de código"
      ],
      "metadata": {
        "id": "SY4WMEp7dESU"
      }
    },
    {
      "cell_type": "code",
      "source": [
        "# Tipo de coche\n",
        "ggplot(data = mtcars, mapping = aes(x = mpg , y = hp, color = am )) +\n",
        "  geom_point()"
      ],
      "metadata": {
        "id": "HI38S4PHeKC6"
      },
      "execution_count": null,
      "outputs": []
    },
    {
      "cell_type": "code",
      "source": [
        "# Diferente orden para graficar lo mismo\n",
        "ggplot(data = mtcars) +\n",
        "  geom_point(mapping = aes(x = mpg , y = hp, color = am ))"
      ],
      "metadata": {
        "id": "Oez0feO7bFGS"
      },
      "execution_count": null,
      "outputs": []
    },
    {
      "cell_type": "markdown",
      "source": [
        "### 3.3 Tipos de variables al graficar"
      ],
      "metadata": {
        "id": "hUa0yBpFeetN"
      }
    },
    {
      "cell_type": "code",
      "source": [
        "# Como factor\n",
        "ggplot(data = mtcars) +\n",
        "  geom_point(mapping = aes(x = mpg , y = hp, color = as.factor(am)))"
      ],
      "metadata": {
        "id": "Af9DRBpucsM1"
      },
      "execution_count": null,
      "outputs": []
    },
    {
      "cell_type": "markdown",
      "source": [
        "- Limpiar la base de datos de antemano para no tener problemas."
      ],
      "metadata": {
        "id": "j5Yp8KCde_Zd"
      }
    },
    {
      "cell_type": "code",
      "source": [
        "# Tomando solo la variable de am\n",
        "mtcars$am"
      ],
      "metadata": {
        "id": "0yk0MyTQc5dw"
      },
      "execution_count": null,
      "outputs": []
    },
    {
      "cell_type": "code",
      "source": [
        "typeof(mtcars$am)"
      ],
      "metadata": {
        "id": "KesIE0z6dVBM"
      },
      "execution_count": null,
      "outputs": []
    },
    {
      "cell_type": "code",
      "source": [
        "# Si la queremos hacer factor:\n",
        "as.factor(mtcars$am)"
      ],
      "metadata": {
        "id": "qatMdURWfRzK"
      },
      "execution_count": null,
      "outputs": []
    },
    {
      "cell_type": "code",
      "source": [
        "# Asignación de la misma variable transformada a la base de datos\n",
        "mtcars$am <- as.factor(mtcars$am)"
      ],
      "metadata": {
        "id": "pIS3daTQfUMA"
      },
      "execution_count": null,
      "outputs": []
    },
    {
      "cell_type": "code",
      "source": [
        "typeof(mtcars$am)"
      ],
      "metadata": {
        "id": "dDZrpQTWfYZ4"
      },
      "execution_count": null,
      "outputs": []
    },
    {
      "cell_type": "code",
      "source": [
        "head(mtcars)"
      ],
      "metadata": {
        "id": "Me9GqDQ6fa_G"
      },
      "execution_count": null,
      "outputs": []
    },
    {
      "cell_type": "markdown",
      "source": [
        "Ahora si sabemos de antemano que hay variables que sabemos que son categóricas, las podemos modificar con el siguiente código"
      ],
      "metadata": {
        "id": "mwDxEGYjE2DZ"
      }
    },
    {
      "cell_type": "code",
      "source": [
        "# Cuáles son la que deben ser categóricas\n",
        "varfac <- c('vs','gear','carb')"
      ],
      "metadata": {
        "id": "9UDwpLGtfdLh"
      },
      "execution_count": null,
      "outputs": []
    },
    {
      "cell_type": "code",
      "source": [
        "# datos[filas, columnas]\n",
        "mtcars[1,]"
      ],
      "metadata": {
        "id": "ooi3TUzKgm1w"
      },
      "execution_count": null,
      "outputs": []
    },
    {
      "cell_type": "code",
      "source": [
        "mtcars[,2]"
      ],
      "metadata": {
        "id": "ln7lds9Rg10a"
      },
      "execution_count": null,
      "outputs": []
    },
    {
      "cell_type": "code",
      "source": [
        "mtcars$cyl"
      ],
      "metadata": {
        "id": "hjNQ8MSbg5DT"
      },
      "execution_count": null,
      "outputs": []
    },
    {
      "cell_type": "code",
      "source": [
        "# function: lapply\n",
        "mtcars[,varfac] <- lapply(mtcars[,varfac], factor)"
      ],
      "metadata": {
        "id": "AdPyG0b0g_C-"
      },
      "execution_count": null,
      "outputs": []
    },
    {
      "cell_type": "code",
      "source": [
        "mtcars[,varfac]"
      ],
      "metadata": {
        "id": "xuufgUH6hE9d"
      },
      "execution_count": null,
      "outputs": []
    }
  ]
}